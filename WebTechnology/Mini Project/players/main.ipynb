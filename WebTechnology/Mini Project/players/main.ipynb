{
 "cells": [
  {
   "cell_type": "code",
   "execution_count": 4,
   "metadata": {},
   "outputs": [
    {
     "name": "stdout",
     "output_type": "stream",
     "text": [
      "  ranking_date  rank                   name title country  rating  games  \\\n",
      "0     27-07-00     1        Kasparov, Garry     g     RUS    2849     35   \n",
      "1     27-07-00     2      Kramnik, Vladimir     g     RUS    2770     23   \n",
      "2     27-07-00     3     Anand, Viswanathan     g     IND    2762     23   \n",
      "3     27-07-00     4  Morozevich, Alexander     g     RUS    2756     28   \n",
      "4     27-07-00     5         Adams, Michael     g     ENG    2755     38   \n",
      "5     27-07-00     6         Shirov, Alexei     g     ESP    2746     33   \n",
      "6     27-07-00     7            Leko, Peter     g     HUN    2743     29   \n",
      "7     27-07-00     8      Ivanchuk, Vassily     g     UKR    2719     10   \n",
      "8     27-07-00     9       Topalov, Veselin     g     BUL    2707     11   \n",
      "9     27-07-00    10      Krasenkow, Michal     g     POL    2702     61   \n",
      "\n",
      "   birth_year  \n",
      "0        1963  \n",
      "1        1975  \n",
      "2        1969  \n",
      "3        1977  \n",
      "4        1971  \n",
      "5        1972  \n",
      "6        1979  \n",
      "7        1969  \n",
      "8        1975  \n",
      "9        1963  \n"
     ]
    }
   ],
   "source": [
    "import pandas as pd\n",
    "\n",
    "data_file = pd.read_csv('fide_historical.csv')\n",
    "\n",
    "print(data_file.head(10))"
   ]
  }
 ],
 "metadata": {
  "kernelspec": {
   "display_name": "Python 3",
   "language": "python",
   "name": "python3"
  },
  "language_info": {
   "codemirror_mode": {
    "name": "ipython",
    "version": 3
   },
   "file_extension": ".py",
   "mimetype": "text/x-python",
   "name": "python",
   "nbconvert_exporter": "python",
   "pygments_lexer": "ipython3",
   "version": "3.9.5"
  },
  "orig_nbformat": 4
 },
 "nbformat": 4,
 "nbformat_minor": 2
}
